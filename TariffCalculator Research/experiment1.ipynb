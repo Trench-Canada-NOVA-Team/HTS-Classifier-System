{
 "cells": [
  {
   "cell_type": "code",
   "execution_count": null,
   "id": "d9ff10dc",
   "metadata": {},
   "outputs": [],
   "source": [
    "net value = (invoice value - brokerage - freight) / (1 + duty + MPF + HMF + tariff)"
   ]
  },
  {
   "cell_type": "code",
   "execution_count": 6,
   "id": "643eb274",
   "metadata": {},
   "outputs": [
    {
     "name": "stdout",
     "output_type": "stream",
     "text": [
      "Net Value: $75067.22\n",
      "Tariff Cost: $0.00\n"
     ]
    }
   ],
   "source": [
    "def calculate_net_value(\n",
    "    invoice_value,\n",
    "    brokerage,\n",
    "    freight,\n",
    "    duty_percent,\n",
    "    mpf_percent,\n",
    "    hmf_percent,\n",
    "    tariff_percent\n",
    "):\n",
    "    # Convert percentages to decimals\n",
    "    duty = duty_percent / 100\n",
    "    mpf = mpf_percent / 100\n",
    "    hmf = hmf_percent / 100\n",
    "    tariff = tariff_percent / 100\n",
    "\n",
    "    # Apply formula\n",
    "    numerator = invoice_value - brokerage - freight\n",
    "    denominator = 1 + duty + mpf + hmf + tariff\n",
    "\n",
    "    # Avoid division by zero\n",
    "    if denominator == 0:\n",
    "        raise ValueError(\"Denominator is zero, check the input percentages.\")\n",
    "\n",
    "    net_value = numerator / denominator\n",
    "    tariff_cost = net_value * tariff\n",
    "    return net_value, tariff_cost\n",
    "\n",
    "# Example usage\n",
    "net, tariff = calculate_net_value(\n",
    "    invoice_value= 88914,\n",
    "    brokerage=87.19,\n",
    "    freight=5899,\n",
    "    duty_percent= 10,\n",
    "    mpf_percent=0.3464,\n",
    "    hmf_percent=0.125,\n",
    "    tariff_percent=0\n",
    ")\n",
    "\n",
    "print(f\"Net Value: ${net:.2f}\")\n",
    "print(f\"Tariff Cost: ${tariff:.2f}\")\n"
   ]
  },
  {
   "cell_type": "code",
   "execution_count": null,
   "id": "81bd6ebe",
   "metadata": {},
   "outputs": [],
   "source": [
    "# calculate tariff cost"
   ]
  }
 ],
 "metadata": {
  "kernelspec": {
   "display_name": "tariffC",
   "language": "python",
   "name": "python3"
  },
  "language_info": {
   "codemirror_mode": {
    "name": "ipython",
    "version": 3
   },
   "file_extension": ".py",
   "mimetype": "text/x-python",
   "name": "python",
   "nbconvert_exporter": "python",
   "pygments_lexer": "ipython3",
   "version": "3.10.16"
  }
 },
 "nbformat": 4,
 "nbformat_minor": 5
}
